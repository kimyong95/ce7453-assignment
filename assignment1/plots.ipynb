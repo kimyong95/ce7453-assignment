{
 "cells": [
  {
   "cell_type": "code",
   "execution_count": 1,
   "metadata": {},
   "outputs": [],
   "source": [
    "import numpy as np\n",
    "import matplotlib.pyplot as plt\n"
   ]
  },
  {
   "cell_type": "code",
   "execution_count": 2,
   "metadata": {},
   "outputs": [],
   "source": [
    "data_points = []\n",
    "filename = \"test\"\n",
    "with open(f\"inputs/{filename}.txt\", \"r\") as f:\n",
    "    while line := f.readline():\n",
    "        data_points.append([ float(p) for p in line.rstrip().split(\" \")])\n",
    "\n",
    "data_points = np.array(data_points)"
   ]
  },
  {
   "cell_type": "code",
   "execution_count": 3,
   "metadata": {},
   "outputs": [],
   "source": [
    "\n",
    "K = 3\n",
    "\n",
    "total_dist = 0\n",
    "for i in range(len(data_points)-1):\n",
    "    total_dist += np.linalg.norm(data_points[i+1] - data_points[i])\n",
    "\n",
    "\n",
    "t = np.zeros((len(data_points)),dtype=np.float64)\n",
    "\n",
    "acc_dist = 0\n",
    "for i in range(len(data_points)-1):\n",
    "    acc_dist += np.linalg.norm(data_points[i+1] - data_points[i])\n",
    "    t[i+1] += acc_dist / total_dist\n",
    "\n",
    "# repeat k to tail and head for intoperate fist and last point, to produce knots\n",
    "knots = np.concatenate([np.zeros(K), t, np.ones(K)],axis=0)\n",
    "\n",
    "eps = np.finfo(np.float64).eps\n",
    "\n",
    "for k_ in range(K+1):\n",
    "    knots[k_] = (k_+1)*eps\n",
    "    knots[-(k_+1)] = 1.0 - (k_+1)*eps\n"
   ]
  },
  {
   "cell_type": "code",
   "execution_count": 4,
   "metadata": {},
   "outputs": [],
   "source": [
    "from sympy import Piecewise, symbols, IndexedBase, Idx, Matrix, Eq\n",
    "from scipy.linalg import solve\n",
    "\n",
    "U = IndexedBase('U', shape=(len(knots),))\n",
    "i = symbols('i', cls=Idx)\n",
    "k = symbols('k', cls=Idx)\n",
    "\n",
    "u = symbols('u')\n",
    "\n",
    "N_i0 = symbols('N_i0')\n",
    "N_i1 = symbols('N_i1')\n",
    "\n",
    "base = Piecewise(\n",
    "    (1, (u >= U[i]) & (u < U[i+1]) ),\n",
    "    (0, True),\n",
    ")\n",
    "recursive = (u-U[i])/(U[i+k]-U[i])*N_i0 + (U[i+k+1]-u)/(U[i+k+1]-U[i+1])*N_i1\n",
    "\n",
    "basis = base\n",
    "for _ in range(K):\n",
    "    basis = recursive.subs({ N_i0: basis.subs({k:k-1}), N_i1: basis.subs({k:k-1,i:i+1})})\n",
    "\n",
    "basis = basis.subs({\n",
    "    U: Matrix(knots),\n",
    "    k: K,\n",
    "})\n",
    "\n",
    "df_basis = basis.diff(u).diff(u)\n",
    "\n",
    "A = np.zeros((len(data_points)+K-1,len(data_points)+K-1), dtype=np.float64)\n",
    "\n",
    "for i_ in range(len(data_points)):\n",
    "    for k_ in range(K):\n",
    "        A[i_+1,i_+k_] = basis.subs({i: i_+k_, u:knots[i_+K]})\n",
    "\n",
    "eps = np.finfo(np.float64).eps\n",
    "\n",
    "for k_ in range(K):\n",
    "    A[0,k_] = df_basis.subs({i:k_,u:knots[K]+eps})\n",
    "    A[-1,len(data_points)-1+k_] = df_basis.subs({i:len(data_points)-1+k_,u:knots[-(K+1)]-eps})\n",
    "\n",
    "x = solve(A, np.concatenate([np.zeros((1,2)),data_points,np.zeros((1,2))],axis=0))\n",
    "    "
   ]
  },
  {
   "cell_type": "code",
   "execution_count": 5,
   "metadata": {},
   "outputs": [
    {
     "name": "stderr",
     "output_type": "stream",
     "text": [
      "The PostScript backend does not support transparency; partially transparent artists will be rendered opaque.\n"
     ]
    },
    {
     "data": {
      "image/png": "[encoded data removed]",
      "text/plain": [
       "<Figure size 640x480 with 1 Axes>"
      ]
     },
     "metadata": {},
     "output_type": "display_data"
    }
   ],
   "source": [
    "\n",
    "spine = []\n",
    "\n",
    "fig, ax = plt.subplots()\n",
    "\n",
    "for seg in range(len(data_points)-1):\n",
    "    for u_ in np.arange(knots[K+seg], knots[K+seg+1], 0.002):\n",
    "        r = np.zeros((2,))\n",
    "        for k_ in range(K+1):\n",
    "            r += float(basis.evalf(subs={i: seg+k_, u:u_})) * x[seg+k_]\n",
    "        spine.append(r)\n",
    "\n",
    "spine = np.asarray(spine)\n",
    "\n",
    "ax.plot(x[:,0], x[:,1], \"o\", label=\"control points\")\n",
    "ax.plot(data_points[:,0], data_points[:,1], \"x\", label=\"data points\")\n",
    "ax.plot(spine[:,0], spine[:,1], label=\"spine\")\n",
    "\n",
    "leg = ax.legend(loc='upper center', bbox_to_anchor=(0.5, -0.1), ncol=5)\n",
    "ax.set_aspect('equal', adjustable='box')\n",
    "plt.savefig(f'plots/{filename}.eps', format='eps', bbox_extra_artists=(leg,), bbox_inches='tight')\n",
    "plt.show()"
   ]
  },
  {
   "cell_type": "code",
   "execution_count": 6,
   "metadata": {},
   "outputs": [],
   "source": [
    "data_points = []\n",
    "with open(f\"outputs/{filename}.txt\", \"w+\") as f:\n",
    "    f.write(str(K)+\"\\n\")\n",
    "    f.write(str(len(x))+\"\\n\")\n",
    "    f.write(\"\\n\")\n",
    "    f.write(\" \".join([str(f\"{k_:.2f}\") for k_ in knots])+\"\\n\")\n",
    "    f.write(\"\\n\")\n",
    "    for xi in x:\n",
    "       f.write(\" \".join([str(f\"{x_:.2f}\") for x_ in xi])+\"\\n\")\n",
    "\n",
    "data_points = np.array(data_points)"
   ]
  }
 ],
 "metadata": {
  "kernelspec": {
   "display_name": "Python 3",
   "language": "python",
   "name": "python3"
  },
  "language_info": {
   "codemirror_mode": {
    "name": "ipython",
    "version": 3
   },
   "file_extension": ".py",
   "mimetype": "text/x-python",
   "name": "python",
   "nbconvert_exporter": "python",
   "pygments_lexer": "ipython3",
   "version": "3.8.16"
  },
  "orig_nbformat": 4
 },
 "nbformat": 4,
 "nbformat_minor": 2
}
